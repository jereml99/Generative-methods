{
 "cells": [
  {
   "cell_type": "markdown",
   "metadata": {},
   "source": [
    "# Noise Exercise\n",
    "\n",
    "This notebook contains an exercise divided into six (very interconnected) parts. \n",
    "For each part, you need to write a bit of code, and the cells towards the end of the notebook contain calls that generate images. Use this to check whether your implementations work.\n",
    "\n",
    "When you have completed all parts, please answer the questions at the end of this notebook. Your answers should just be added to the notebook, and the entire notebook is submitted as a hand-in by exporting it as HTML and then uploading the HTML to the assignment in Learn.\n",
    "\n",
    "### Making this exercise easier\n",
    "\n",
    "Note that Part 4 is non-mandatory.\n",
    "\n",
    "### Making this exercise harder\n",
    "\n",
    "To make this exercise more challenging consider one of the following _non-mandatory_ extensions.\n",
    "\n",
    "- implement one or more different noise functions, e.g. Perlin's noise function:   \n",
    "  https://findit.dtu.dk/en/catalog/5a2ff7225010df33b0055c9c \n",
    "  or sparse convolution noise:  \n",
    "  https://backend.orbit.dtu.dk/ws/portalfiles/portal/4164648/imm5481.pdf\n",
    "- implement Bridson's algorithm for fast Poisson Disk Sampling:  \n",
    "  https://www.cs.ubc.ca/~rbridson/docs/bridson-siggraph07-poissondisk.pdf\n",
    "\n",
    "#### Implementation details\n",
    "The libraries needed are probably part of your distribution, but you will need to install PyGEL. For most users, the best way to do that is via `pip`:\n",
    "\n",
    "```pip install --user pygel3d```\n",
    "\n",
    "Chances are that `numpy` and `numba` are already installed, but, otherwise, you can also get those using `pip`. `plotly`is installed as a dependency of `pygel3d`. Unfortunately, the very latest version of plotly has issues regarding HTML export. Please explicitly install `plotly` using \n",
    "\n",
    "```pip install --user plotly==5.24.1```"
   ]
  },
  {
   "cell_type": "markdown",
   "metadata": {},
   "source": [
    "## Initialization in the block below"
   ]
  },
  {
   "cell_type": "code",
   "execution_count": null,
   "metadata": {},
   "outputs": [],
   "source": [
    "from math import cos, sin, pi, sqrt, exp, atan2\n",
    "from numpy import ndindex, array, ndarray, dot, empty, linspace, clip, abs, ceil, zeros, repeat\n",
    "from numpy.linalg import norm\n",
    "from numpy.random import normal\n",
    "from numpy.fft import fft2,fftshift\n",
    "from random import uniform\n",
    "from numba import njit\n",
    "from time import time\n",
    "import plotly.express as px\n",
    "from pygel3d import hmesh, jupyter_display as jd\n",
    "jd.set_export_mode(True)\n",
    "\n",
    "@njit\n",
    "def vec2(x,y):\n",
    "    '''Convert two numbers to a 2D numpy array '''\n",
    "    v = empty((2,))\n",
    "    v[0] = x\n",
    "    v[1] = y\n",
    "    return v\n",
    "\n",
    "@njit\n",
    "def vec3(x,y,z):\n",
    "    '''Convert three numbers to a 2D numpy array '''\n",
    "    v = empty((3,))\n",
    "    v[0] = x\n",
    "    v[1] = y\n",
    "    v[2] = z\n",
    "    return v\n",
    "\n",
    "@njit\n",
    "def vec4(x,y,z,w):\n",
    "    '''Convert four numbers to a 2D numpy array '''\n",
    "    v = empty((4,))\n",
    "    v[0] = x\n",
    "    v[1] = y\n",
    "    v[2] = z\n",
    "    v[3] = w\n",
    "    return v\n",
    "\n",
    "def Fourier_transform(img):\n",
    "    ft = fft2(img)\n",
    "    ft = fftshift(ft)\n",
    "    ft_mag = clip(abs(ft),0,256)\n",
    "    return ft_mag"
   ]
  },
  {
   "cell_type": "markdown",
   "metadata": {},
   "source": [
    "## Insert code in blocks below"
   ]
  },
  {
   "cell_type": "code",
   "execution_count": 2,
   "metadata": {},
   "outputs": [],
   "source": [
    "@njit\n",
    "def init_noise_vectors(N):\n",
    "    '''Initialize random vectors used to generate the 2D sine waves that\n",
    "    form the basis of the noise. The parameter N is the number of sine \n",
    "    waves used. The function returns an Nx4 matrix each row of which \n",
    "    retpresents a wave contributing to the noise.'''\n",
    "    noise_waves = empty((N,4))\n",
    "    #--- Part 1: Insert code below that initializes noise_waves\n",
    "    sigma = 10\n",
    "    for i in range(N):\n",
    "        ksi = normal(0, sigma)\n",
    "        omega_x = (3* sigma + ksi) * cos(2*pi*i/N)\n",
    "        omega_y = (3* sigma + ksi) * sin(2*pi*i/N)\n",
    "        phi = uniform(0, 2*pi)\n",
    "        weight = exp((-ksi**2)/(sigma**2))\n",
    "        noise_waves[i] = vec4(omega_x, omega_y, phi, weight)\n",
    "    #--- End of Part 1\n",
    "    return noise_waves\n",
    "\n",
    "WAVES = init_noise_vectors(90)\n"
   ]
  },
  {
   "cell_type": "code",
   "execution_count": 14,
   "metadata": {},
   "outputs": [],
   "source": [
    "@njit\n",
    "def noise(x):\n",
    "    '''Noise function. Simply sums a number of sine functions'''\n",
    "    I = 0.0\n",
    "    #--- Part 2: Insert code below that sums waves. Store sum in I\n",
    "    for i in range(WAVES.shape[0]):\n",
    "        omega_x = WAVES[i,0]\n",
    "        omega_y = WAVES[i,1]\n",
    "        phi = WAVES[i,2]\n",
    "        weight = WAVES[i,3]\n",
    "        I += weight * sin(omega_x * x[0] + omega_y * x[1] + phi)\n",
    "    #--- End of Part 2\n",
    "    return I\n"
   ]
  },
  {
   "cell_type": "code",
   "execution_count": 4,
   "metadata": {},
   "outputs": [],
   "source": [
    "@njit\n",
    "def turbulence(x,octaves=10):\n",
    "    '''Add octaves of noise to produce a turbulence-like result. Returns \n",
    "    a single number which is the intensity of the turbulence.'''\n",
    "    I = 0\n",
    "    #--- Part 3: Insert code that sums octaves of noise producing \"turbulence\"\n",
    "\n",
    "    #--- End of Part 3\n",
    "    return I\n"
   ]
  },
  {
   "cell_type": "code",
   "execution_count": 5,
   "metadata": {},
   "outputs": [],
   "source": [
    "@njit\n",
    "def periodic_fun(t, scale):\n",
    "    '''This function combines noise and periodic functions to produce an interesting image/texture.'''\n",
    "    I = 0\n",
    "    #--- Part 4: go crazy (non-mandatory)\n",
    "\n",
    "    #--- End of Part 4\n",
    "    return I\n",
    "\n"
   ]
  },
  {
   "cell_type": "code",
   "execution_count": 6,
   "metadata": {},
   "outputs": [],
   "source": [
    "@njit\n",
    "def noise_grad(x):\n",
    "    '''Gradient of noise function computed analytically'''\n",
    "    g = vec2(0,0)\n",
    "    #--- Part 5: Sum gradients of each wave contributing to noise\n",
    "\n",
    "    #--- End of Part 5\n",
    "    return g\n"
   ]
  },
  {
   "cell_type": "code",
   "execution_count": 7,
   "metadata": {},
   "outputs": [],
   "source": [
    "@njit\n",
    "def Poisson_Disk_Sampling():\n",
    "    '''Create a distribution of N points such that no two points are \n",
    "    closer than R.'''\n",
    "    N = 100\n",
    "    R = 0.085\t\n",
    "    pts = empty((N,2))\n",
    "    #--- Part 6: Fill the array with points abiding by ||pts[i]-pts[j]||>=R\n",
    "\n",
    "    #--- End of Part 6\n",
    "    return pts, R"
   ]
  },
  {
   "cell_type": "markdown",
   "metadata": {},
   "source": [
    "## Helper functions below"
   ]
  },
  {
   "cell_type": "code",
   "execution_count": 8,
   "metadata": {},
   "outputs": [],
   "source": [
    "@njit\n",
    "def V(x, noise_scale):\n",
    "    ''' V returns a curl noise vector field. In 2D this is just\n",
    "    a 90 degree turn of the gradient of the noise.'''\n",
    "    p = noise_scale * x\n",
    "    g = noise_grad(p)\n",
    "    gh = vec2(-g[1], g[0])\n",
    "    return gh\n",
    "\n",
    "@njit\n",
    "def Rand(x, dt, noise_scale):\n",
    "    '''Perform a random step from x in a random direction.'''\n",
    "    return x + dt * 0.5*vec2(uniform(-0.5,0.5),uniform(-0.5,0.5))\n",
    "\n",
    "@njit\n",
    "def RK4(x, dt, noise_scale):\n",
    "    '''Perform one Runge-Kutta 4th order step of length dt from x along the curl noise vector field'''\n",
    "    a = dt * V(x, noise_scale)\n",
    "    b = dt * V(x+a/2, noise_scale)\n",
    "    c = dt * V(x+b/2, noise_scale)\n",
    "    d = dt * V(x+c, noise_scale)\n",
    "    return x + (a+2*b+2*c+d)/6\n",
    "\n",
    "\n",
    "def show_function_and_spectrum(fun, scale):\n",
    "    '''Display image of function together with Fourier spectrum'''\n",
    "    dim = 1024\n",
    "    img = empty((dim,dim))\n",
    "    s = (scale/dim)\n",
    "    for i,j in ndindex((dim,dim)):\n",
    "        p = s*vec2(i,j)\n",
    "        img[i,j] = fun(p)\n",
    "    fig1 = px.imshow(img, width=800, height=800)\n",
    "    fig2 = px.imshow(Fourier_transform(img), width=800, height=800)\n",
    "    fig1.show()\n",
    "    fig2.show()\n",
    "\n",
    "def show_function(fun, scale):\n",
    "    '''Display image of function fun'''\n",
    "    dim = 1024\n",
    "    img = empty((dim,dim))\n",
    "    s = (1/dim)\n",
    "    for i,j in ndindex((dim,dim)):\n",
    "        p = s*vec2(i,j)\n",
    "        img[i,j] = fun(p, scale)\n",
    "    fig = px.imshow(img, width=800, height=800)\n",
    "    fig.show()\n",
    "\n",
    "\n",
    "def show_height_map(fun, scale):\n",
    "    '''Display function as a height map rendered as a 3D mesh.'''\n",
    "    dim = 256\n",
    "    img = ndarray((dim,dim))\n",
    "    s = (scale/dim)\n",
    "    for i,j in ndindex((dim,dim)):\n",
    "        p = s*vec2(i,j)\n",
    "        img[i,j] = fun(p)\n",
    "    m = hmesh.Manifold()\n",
    "    for i,j in ndindex((dim-1,dim-1)):\n",
    "        p0 = vec3(i*s,j*s, img[i,j])\n",
    "        p1 = vec3((i+1)*s,j*s, img[i+1,j])\n",
    "        p2 = vec3((i+1)*s,(j+1)*s, img[i+1,j+1])\n",
    "        p3 = vec3(i*s,(j+1)*s, img[i,j+1])\n",
    "        m.add_face([p0, p1, p2, p3])\n",
    "    hmesh.stitch(m)\n",
    "    hmesh.triangulate(m)\n",
    "    jd.display(m)\n",
    "\n",
    "\n",
    "def show_PDS():\n",
    "    t0 = time()\n",
    "    pts,R = Poisson_Disk_Sampling()\n",
    "    t1 = time()\n",
    "    fig = px.scatter(x=pts[:,0], y=pts[:,1], width=800, height=800)\n",
    "    fig.layout.yaxis.scaleanchor=\"x\"\n",
    "    fig.layout.xaxis.domain=[0.0, 1.0]\n",
    "    fig.layout.yaxis.domain=[0.0, 1.0]\n",
    "    fig.show()\n",
    "\n",
    "def trace_curl_noise():\n",
    "    global anim\n",
    "    N = 256\n",
    "    delta_x = cos(pi/3)\n",
    "    delta_y = sin(pi/3)\n",
    "    Ny = int(ceil(sqrt(N/delta_y)))\n",
    "    Nx = int(Ny * delta_y)\n",
    "    N = len(list(ndindex((Nx,Ny))))\n",
    "    vec = zeros((100, N, 2))\n",
    "    vec[0,:,:] = array([ vec2(i+(j%2)*delta_x,(j+0.5)*delta_y) / Nx for i,j in ndindex((Nx,Ny))])\n",
    "    for t in range(1,100):\n",
    "        for i in range(N):\n",
    "            vec[t,i,:] = RK4(vec[t-1,i,:], dt=0.01, noise_scale=2)\n",
    "    frames = repeat([i for i in range(100)], N)\n",
    "    fig = px.scatter(x=vec[:,:,0].flatten(), y=vec[:,:,1].flatten(), width=800, height=800, animation_frame=frames)\n",
    "    fig.layout.xaxis.domain=[0.0,1.0]\n",
    "    fig.layout.yaxis.domain=[0.0,1.0]\n",
    "    fig.show()"
   ]
  },
  {
   "cell_type": "markdown",
   "metadata": {},
   "source": [
    "# Test your code using the functions below"
   ]
  },
  {
   "cell_type": "code",
   "execution_count": null,
   "metadata": {},
   "outputs": [],
   "source": [
    "# Having solved Part 1 and 2 you should be able to generate\n",
    "# noise images. The code below tests your implementation by\n",
    "# showing the noise and its spectrum at two different scales\n",
    "# Feel free to experiment with the scaling. \n",
    "#---\n",
    "show_function_and_spectrum(noise, 3)\n",
    "show_function_and_spectrum(noise, 30)"
   ]
  },
  {
   "cell_type": "code",
   "execution_count": null,
   "metadata": {},
   "outputs": [],
   "source": [
    "# Having solved Part 3, you can generate a turbulence height map\n",
    "# Test it using the function below. \n",
    "#---\n",
    "show_height_map(turbulence, 0.5)\n"
   ]
  },
  {
   "cell_type": "code",
   "execution_count": null,
   "metadata": {},
   "outputs": [],
   "source": [
    "# Having solved Part 4, you can use the function below to show your\n",
    "# periodic pattern. \n",
    "#---\n",
    "show_function(periodic_fun, 50)\n"
   ]
  },
  {
   "cell_type": "code",
   "execution_count": null,
   "metadata": {},
   "outputs": [],
   "source": [
    "# Having solved Part 5, you can trace particles using curl noise. \n",
    "#---\n",
    "trace_curl_noise()\n"
   ]
  },
  {
   "cell_type": "code",
   "execution_count": null,
   "metadata": {},
   "outputs": [],
   "source": [
    "# Having solved Part 6, you can show a Poisson disk sampling using\n",
    "# the code below. \n",
    "show_PDS()"
   ]
  },
  {
   "cell_type": "markdown",
   "metadata": {},
   "source": [
    "# Questions\n",
    "- Discuss the extent to which the noise function fulfills the desirable properties of noise (bandlimited, stationary, isotropic)\n",
    "- Regarding turbulence, explain why the scaling of the noise octaves must decrease as the frequency goes up.\n",
    "- When advecting particles using curl noise, explain why the particles don't bunch up or disperse over time.\n",
    "- Explain why the Poisson disk sampling becomes extremely slow when the maximum number of points that the domain can accommodate is approached.\n",
    "- Explain how curl noise can be used to generate the same type of point pattern as Poisson Disk Sampling.\n",
    "\n"
   ]
  }
 ],
 "metadata": {
  "kernelspec": {
   "display_name": "gen_comp_graphics",
   "language": "python",
   "name": "python3"
  },
  "language_info": {
   "codemirror_mode": {
    "name": "ipython",
    "version": 3
   },
   "file_extension": ".py",
   "mimetype": "text/x-python",
   "name": "python",
   "nbconvert_exporter": "python",
   "pygments_lexer": "ipython3",
   "version": "undefined.undefined.undefined"
  }
 },
 "nbformat": 4,
 "nbformat_minor": 4
}
